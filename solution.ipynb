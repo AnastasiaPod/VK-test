{
 "cells": [
  {
   "cell_type": "code",
   "execution_count": 1,
   "id": "672ad799",
   "metadata": {},
   "outputs": [],
   "source": [
    "import pandas as pd\n",
    "import numpy as np\n",
    "import xgboost as xgb"
   ]
  },
  {
   "cell_type": "code",
   "execution_count": 2,
   "id": "0bbddb48",
   "metadata": {},
   "outputs": [],
   "source": [
    "# Загрузка данных\n",
    "test = pd.read_csv('test.csv')\n",
    "features = pd.read_csv('features.csv')\n",
    "\n",
    "# Загрузка обученной модели\n",
    "model = xgb.XGBRegressor()\n",
    "model.load_model('trained_model.model')"
   ]
  },
  {
   "cell_type": "code",
   "execution_count": 3,
   "id": "43f0136c",
   "metadata": {},
   "outputs": [],
   "source": [
    "from feature_aggregation import aggregate_features"
   ]
  },
  {
   "cell_type": "code",
   "execution_count": 4,
   "id": "9a728fb4",
   "metadata": {},
   "outputs": [],
   "source": [
    "# Прогнозирование на тестовой выборке\n",
    "aggregated_test_features = aggregate_features(test[['lat', 'lon']].values, features)\n",
    "aggregated_test_features_df = pd.DataFrame(aggregated_test_features, columns=features.columns[2:])\n",
    "test_enhanced = pd.concat([test.reset_index(drop=True), aggregated_test_features_df], axis=1)\n",
    "X_test = test_enhanced.drop(['id'], axis=1).iloc[:, :113]\n",
    "test_preds = model.predict(X_test)"
   ]
  },
  {
   "cell_type": "code",
   "execution_count": 5,
   "id": "6c6dd365",
   "metadata": {},
   "outputs": [
    {
     "data": {
      "text/plain": [
       "array([0.11439057, 0.09384103, 0.09174546, ..., 0.11023544, 0.12623125,\n",
       "       0.09317706], dtype=float32)"
      ]
     },
     "execution_count": 5,
     "metadata": {},
     "output_type": "execute_result"
    }
   ],
   "source": [
    "test_preds"
   ]
  },
  {
   "cell_type": "code",
   "execution_count": 6,
   "id": "e92d45e4",
   "metadata": {},
   "outputs": [],
   "source": [
    "# Сохранение предсказаний в файл submission.csv\n",
    "submission_df = pd.DataFrame({'id': test['id'], 'score': test_preds})\n",
    "submission_df.to_csv('submission.csv', index=False)"
   ]
  },
  {
   "cell_type": "code",
   "execution_count": null,
   "id": "4decfabb",
   "metadata": {},
   "outputs": [],
   "source": []
  }
 ],
 "metadata": {
  "kernelspec": {
   "display_name": "Python 3 (ipykernel)",
   "language": "python",
   "name": "python3"
  },
  "language_info": {
   "codemirror_mode": {
    "name": "ipython",
    "version": 3
   },
   "file_extension": ".py",
   "mimetype": "text/x-python",
   "name": "python",
   "nbconvert_exporter": "python",
   "pygments_lexer": "ipython3",
   "version": "3.9.13"
  }
 },
 "nbformat": 4,
 "nbformat_minor": 5
}
